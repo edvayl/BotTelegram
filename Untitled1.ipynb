{
 "cells": [
  {
   "cell_type": "code",
   "execution_count": 24,
   "metadata": {},
   "outputs": [
    {
     "name": "stdout",
     "output_type": "stream",
     "text": [
      "https://prnt.sc/fs1860\n",
      "https://xxxbunker.me/?random\n"
     ]
    }
   ],
   "source": [
    "import random\n",
    "import string\n",
    "\n",
    "letters = string.ascii_lowercase\n",
    "a =random.choice(letters) \n",
    "b =random.choice(letters)\n",
    "r =  random.randint(1000, 9999)\n",
    "c= str(r)\n",
    "print('https://prnt.sc/' +a+b+c)\n",
    "print('https://xxxbunker.me/?random')\n",
    "\n"
   ]
  }
 ],
 "metadata": {
  "kernelspec": {
   "display_name": "Python 3",
   "language": "python",
   "name": "python3"
  },
  "language_info": {
   "codemirror_mode": {
    "name": "ipython",
    "version": 3
   },
   "file_extension": ".py",
   "mimetype": "text/x-python",
   "name": "python",
   "nbconvert_exporter": "python",
   "pygments_lexer": "ipython3",
   "version": "3.7.3"
  }
 },
 "nbformat": 4,
 "nbformat_minor": 2
}
